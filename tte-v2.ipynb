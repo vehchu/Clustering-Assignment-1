{
 "cells": [
  {
   "cell_type": "markdown",
   "metadata": {},
   "source": [
    "# TTEV2 Python Code + Clusters + Insights"
   ]
  },
  {
   "cell_type": "markdown",
   "metadata": {},
   "source": [
    "## Cell 1: Import Libraries\n",
    "\n",
    "This cell imports all the necessary libraries for our clustered survival analysis.\n",
    "We'll use pandas and numpy for data manipulation, statsmodels for fitting statistical models,\n",
    "sklearn for K-means clustering, scipy for statistical functions, and matplotlib for visualization."
   ]
  },
  {
   "cell_type": "code",
   "execution_count": 72,
   "metadata": {},
   "outputs": [],
   "source": [
    "import os\n",
    "import pandas as pd\n",
    "import numpy as np\n",
    "import statsmodels.formula.api as smf\n",
    "from sklearn.cluster import KMeans\n",
    "from scipy.stats import multivariate_normal\n",
    "from patsy import dmatrix\n",
    "import matplotlib.pyplot as plt"
   ]
  },
  {
   "cell_type": "markdown",
   "metadata": {},
   "source": [
    "## Cell 2: Setup Directories\n",
    "\n",
    "This cell sets up the directory structure for our analysis.\n",
    "We create separate directories for the \"Per-Protocol\" (PP) and the \"Intention-to-Treat\" (ITT) analyses."
   ]
  },
  {
   "cell_type": "code",
   "execution_count": 73,
   "metadata": {},
   "outputs": [],
   "source": [
    "trial_pp_dir = os.path.join(os.getcwd(), \"trial_pp\")\n",
    "trial_itt_dir = os.path.join(os.getcwd(), \"trial_itt\")\n",
    "os.makedirs(trial_pp_dir, exist_ok=True)\n",
    "os.makedirs(trial_itt_dir, exist_ok=True)\n",
    "\n",
    "trial_pp = {\"estimand\": \"PP\", \"dir\": trial_pp_dir}\n",
    "trial_itt = {\"estimand\": \"ITT\", \"dir\": trial_itt_dir}"
   ]
  },
  {
   "cell_type": "markdown",
   "metadata": {},
   "source": [
    "## Cell 3: Data Preparation\n",
    "\n",
    "This cell prepares the data for analysis.\n",
    "We load the censored data from a CSV file and define the column mappings."
   ]
  },
  {
   "cell_type": "code",
   "execution_count": 74,
   "metadata": {},
   "outputs": [],
   "source": [
    "data_censored = pd.read_csv(\"data_censored.csv\")  # Replace with your actual data file path\n",
    "columns = {\n",
    "    \"id\": \"id\",\n",
    "    \"period\": \"period\",\n",
    "    \"treatment\": \"treatment\",\n",
    "    \"outcome\": \"outcome\",\n",
    "    \"eligible\": \"eligible\"\n",
    "}\n",
    "trial_pp[\"data\"] = data_censored.copy()\n",
    "trial_pp[\"columns\"] = columns\n",
    "trial_itt[\"data\"] = data_censored.copy()\n",
    "trial_itt[\"columns\"] = columns"
   ]
  },
  {
   "cell_type": "markdown",
   "metadata": {},
   "source": [
    "## Cell 4: Define Clustering Function\n",
    "\n",
    "This cell defines a function to perform K-means clustering on baseline covariates.\n",
    "Clustering helps identify subgroups of patients with similar characteristics,\n",
    "allowing us to examine heterogeneous treatment effects across these subgroups."
   ]
  },
  {
   "cell_type": "code",
   "execution_count": 75,
   "metadata": {},
   "outputs": [],
   "source": [
    "def perform_clustering(data, baseline_vars, n_clusters=3):\n",
    "    \"\"\"\n",
    "    Perform K-means clustering on baseline covariates and merge cluster labels into the dataset.\n",
    "    \n",
    "    Clustering improves our analysis by:\n",
    "    1. Identifying natural subgroups in the population based on baseline characteristics\n",
    "    2. Allowing for heterogeneous treatment effect estimation across these subgroups\n",
    "    3. Potentially revealing patient groups who respond differently to treatment\n",
    "    \n",
    "    Args:\n",
    "        data (pd.DataFrame): Input dataset\n",
    "        baseline_vars (list): List of baseline variables for clustering\n",
    "        n_clusters (int): Number of clusters (default=3)\n",
    "    \n",
    "    Returns:\n",
    "        pd.DataFrame: Dataset with cluster labels\n",
    "        KMeans: Fitted K-means model\n",
    "    \"\"\"\n",
    "    # Extract baseline data (period 0) and select clustering variables\n",
    "    baseline_data = data[data[\"period\"] == 0][[\"id\"] + baseline_vars]\n",
    "    \n",
    "    # Fit K-means clustering model\n",
    "    kmeans = KMeans(n_clusters=n_clusters, random_state=1234)\n",
    "    baseline_data[\"cluster\"] = kmeans.fit_predict(baseline_data[baseline_vars])\n",
    "    \n",
    "    # Merge cluster assignments back to original data\n",
    "    data = data.merge(baseline_data[[\"id\", \"cluster\"]], on=\"id\", how=\"left\")\n",
    "    return data, kmeans"
   ]
  },
  {
   "cell_type": "markdown",
   "metadata": {},
   "source": [
    "## Cell 5: Apply Clustering to the Data\n",
    "\n",
    "This cell applies the clustering function to our ITT data.\n",
    "We define the baseline variables to use for clustering and execute the clustering."
   ]
  },
  {
   "cell_type": "code",
   "execution_count": 76,
   "metadata": {},
   "outputs": [
    {
     "name": "stdout",
     "output_type": "stream",
     "text": [
      "               age        x1        x2        x3        x4\n",
      "cluster                                                   \n",
      "0        40.025000  0.450000  0.092022  0.450000 -0.259737\n",
      "1        26.181818  0.333333 -0.186206  0.575758  0.499317\n",
      "2        52.187500  0.437500  0.001540  0.562500 -0.179570\n"
     ]
    }
   ],
   "source": [
    "# Define baseline variables for clustering (adjust based on your dataset)\n",
    "baseline_vars = [\"age\", \"x1\", \"x2\", \"x3\", \"x4\"]  # Example; replace with actual baseline covariates\n",
    "trial_itt[\"data\"], kmeans_model = perform_clustering(trial_itt[\"data\"], baseline_vars)\n",
    "\n",
    "# Let's examine the clusters - uncomment to visualize cluster characteristics\n",
    "cluster_summary = trial_itt[\"data\"][trial_itt[\"data\"][\"period\"] == 0].groupby(\"cluster\")[baseline_vars].mean()\n",
    "print(cluster_summary)"
   ]
  },
  {
   "cell_type": "code",
   "execution_count": 77,
   "metadata": {},
   "outputs": [
    {
     "data": {
      "application/vnd.plotly.v1+json": {
       "config": {
        "plotlyServerURL": "https://plot.ly"
       },
       "data": [
        {
         "customdata": {
          "bdata": "JCIuJCcnKSknLSQuKS4rJCkqJCclJSgnJSkmLikqJiQsKyotKiYlJA==",
          "dtype": "i1",
          "shape": "40, 1"
         },
         "hovertemplate": "cluster=0<br>PC1 (97.9%)=%{x}<br>PC2 (0.9%)=%{y}<br>age=%{customdata[0]}<extra></extra>",
         "legendgroup": "0",
         "marker": {
          "color": "#636efa",
          "symbol": "circle"
         },
         "mode": "markers",
         "name": "0",
         "orientation": "v",
         "showlegend": true,
         "type": "scatter",
         "x": {
          "bdata": "IEjinfdK8b/Q0oItwb0IwPTSGdP52SFAwK+LKb1e8L9gFiBjgPP+P2A01tda2/8/8OVBP0ejD0DQI6G0RYIPQECD2Gv6qP8/qNpvrqigH0DAHRWYomTxv6SG9t7L2yFAEAveL2FdD0DkJg3I6NghQAjh7QwPwhdAYGEaHMCl8b8Am9pJ3oYPQNhkc3T3nBNAQOSYLJUG8b/AEKJfRu/+PwD4kItkn52/AFY+bo4Atb+gxiZaEEcHQEDh6unuX/4/AMQBjCs6wL/gird+a4UPQACb5G4ie+w/qCKGZVHVIUCAgJ44KrQPQChAvcBe0BNAQGiufSTa7T+A4828I7Hxv2hzf+1H/htAeAdPXoa+F0BAn1Tz9r8TQADEbjBgmB9AcPzbOniSE0CAAG6PCivuPwC2rOgOXrO/wE4iqeBx8b8=",
          "dtype": "f8"
         },
         "xaxis": "x",
         "y": {
          "bdata": "rGjCuUw/6z/afs2i43LUv6R2e/Ys6Mu/OqoLvhxR/L9KbiCBVnrSv5L//bamOAXAp4YdvSZu8r9AMd1WqYWSP9Kc16e0q/e/JIXW4wKb5j8X9K3HshDnv5ZgMGPcE+C/iKvW3kOU2j+IGA+AG/XWv7gS7QyFiOW/th5Vz9gJ5z++SQsxyLDYvxY5/oNDEeA/jN1D8qV82L9QS9364q3qv7Ut1WkhQ/e/oJ25KOOixT8M+YkfqjXQP7r8JwtPN+o/E+nFOy2L+T8VFzhoHszzP+7yj4q/au4/LD0TG3pZ5j8QqaqlDnn6v5ZqCMRB2gDAODpf1VaNy7/gMdprtArrPwpYXuitygbAuNBfAnZczr8HIEX81u3lv4sAEytU6/U/P0ExGyJ38z9SYYSonZ3bv4jeDhQ7XLi/qCFmaWil7z8=",
          "dtype": "f8"
         },
         "yaxis": "y"
        },
        {
         "customdata": {
          "bdata": "Gh0gHhcTGRoeFxYUHB0bIRsgFhMWHSEXIRYaGRkcGxkY",
          "dtype": "i1",
          "shape": "33, 1"
         },
         "hovertemplate": "cluster=1<br>PC1 (97.9%)=%{x}<br>PC2 (0.9%)=%{y}<br>age=%{customdata[0]}<extra></extra>",
         "legendgroup": "1",
         "marker": {
          "color": "#EF553B",
          "symbol": "circle"
         },
         "mode": "markers",
         "name": "1",
         "orientation": "v",
         "showlegend": true,
         "type": "scatter",
         "x": {
          "bdata": "arA6KaYZJsDkPbcQNxMgwBxLk34JbBTAVHW0KpeGHMBe58xpbSsswN9Wue0AEDLA9OLZKydEKMDcOJzKDi0mwGhzH0UdZxzA0OUoKl0jLMDOPzYozC0uwDELN89JGzHAFJuE0wExIsAkmpstLzAgwICoM0jCPCTAGGdWNiZWEMDcGSL8ZSQkwJxzktRbjRTAhByn/D8VLsC/suO+GxYywJCv+Q/7KC7ARA6iF7cbIMAIJmR0TFMQwKQnDwWzMyzAKJFniTduEMB6VGa6ciYuwFhzIXaGJybAVJ+Z9eA6KMCoPpA0jSIowF5CADZkLCLAQAFP3bUqJMDyxiJcyiQowNimxRk5PyrA",
          "dtype": "f8"
         },
         "xaxis": "x",
         "y": {
          "bdata": "9qqIxVX29b/wRVMcnIv8v60HQar32fg/13/d/1sL/D8c20jGFW7eP+OkpamlNOS/56eWLX4H9z9ISQf+TEHMv2JrERkceOE/ocUXOsVM9b/koIZO+izbP6RuiOdhwuE/o+08tzkL/T/6z9mk78fiP1wRaRRAjOE/tGkIorzVz78AFz+WQDR2Pzci+G6baPo/P1znNSar978oZLYmP07Ov7D1HKg7U82/zOrx71C78r8wur7CrebRvxQ257THN+g/xDxXD40c6D+YF6V/HcTKv7CZyaDj1sQ/VRNPN+m+8j80GqCIXfjEvxAb+L2tgMW/TQ43sdPV6b9QfhrzWDTQP/doq5va1fg/",
          "dtype": "f8"
         },
         "yaxis": "y"
        },
        {
         "customdata": {
          "bdata": "MDovMDA3MzM0MjMxMy9AQQ==",
          "dtype": "i1",
          "shape": "16, 1"
         },
         "hovertemplate": "cluster=2<br>PC1 (97.9%)=%{x}<br>PC2 (0.9%)=%{y}<br>age=%{customdata[0]}<extra></extra>",
         "legendgroup": "2",
         "marker": {
          "color": "#00cc96",
          "symbol": "circle"
         },
         "mode": "markers",
         "name": "2",
         "orientation": "v",
         "showlegend": true,
         "type": "scatter",
         "x": {
          "bdata": "oKvRPMfRJUDeuS7/Quk0QAzZtJaKzyNAoL2U6G3nJUAEuXHIbt4lQNZPV6f37TFAQHq9Q8HLK0BEYJJHg90rQAyo8qvj6S1AwNDOdPnMKUDgcj4q0corQPDgeuHE3SdAwAWcXi/eK0B8WrEcitwjQMJeyIHR6zpAFLHnt3PlO0A=",
          "dtype": "f8"
         },
         "xaxis": "x",
         "y": {
          "bdata": "DF2lNIGp5j/42nC0rebGPwGkfrrtoPE/LnGJxu4D178c2lpFFbDrv7RDyav28eq/w10mkBNy9D8AiYNGlJjEP7iSkZM5wNS/sFpNqCsSzj/qv2Om22TqP1CJ0MKkgrW/ZJsmWiDD4r9As66obdv1v8uzqAWGFvI/Kai05ify8z8=",
          "dtype": "f8"
         },
         "yaxis": "y"
        }
       ],
       "layout": {
        "legend": {
         "title": {
          "text": "cluster"
         },
         "tracegroupgap": 0
        },
        "template": {
         "data": {
          "bar": [
           {
            "error_x": {
             "color": "#2a3f5f"
            },
            "error_y": {
             "color": "#2a3f5f"
            },
            "marker": {
             "line": {
              "color": "#E5ECF6",
              "width": 0.5
             },
             "pattern": {
              "fillmode": "overlay",
              "size": 10,
              "solidity": 0.2
             }
            },
            "type": "bar"
           }
          ],
          "barpolar": [
           {
            "marker": {
             "line": {
              "color": "#E5ECF6",
              "width": 0.5
             },
             "pattern": {
              "fillmode": "overlay",
              "size": 10,
              "solidity": 0.2
             }
            },
            "type": "barpolar"
           }
          ],
          "carpet": [
           {
            "aaxis": {
             "endlinecolor": "#2a3f5f",
             "gridcolor": "white",
             "linecolor": "white",
             "minorgridcolor": "white",
             "startlinecolor": "#2a3f5f"
            },
            "baxis": {
             "endlinecolor": "#2a3f5f",
             "gridcolor": "white",
             "linecolor": "white",
             "minorgridcolor": "white",
             "startlinecolor": "#2a3f5f"
            },
            "type": "carpet"
           }
          ],
          "choropleth": [
           {
            "colorbar": {
             "outlinewidth": 0,
             "ticks": ""
            },
            "type": "choropleth"
           }
          ],
          "contour": [
           {
            "colorbar": {
             "outlinewidth": 0,
             "ticks": ""
            },
            "colorscale": [
             [
              0,
              "#0d0887"
             ],
             [
              0.1111111111111111,
              "#46039f"
             ],
             [
              0.2222222222222222,
              "#7201a8"
             ],
             [
              0.3333333333333333,
              "#9c179e"
             ],
             [
              0.4444444444444444,
              "#bd3786"
             ],
             [
              0.5555555555555556,
              "#d8576b"
             ],
             [
              0.6666666666666666,
              "#ed7953"
             ],
             [
              0.7777777777777778,
              "#fb9f3a"
             ],
             [
              0.8888888888888888,
              "#fdca26"
             ],
             [
              1,
              "#f0f921"
             ]
            ],
            "type": "contour"
           }
          ],
          "contourcarpet": [
           {
            "colorbar": {
             "outlinewidth": 0,
             "ticks": ""
            },
            "type": "contourcarpet"
           }
          ],
          "heatmap": [
           {
            "colorbar": {
             "outlinewidth": 0,
             "ticks": ""
            },
            "colorscale": [
             [
              0,
              "#0d0887"
             ],
             [
              0.1111111111111111,
              "#46039f"
             ],
             [
              0.2222222222222222,
              "#7201a8"
             ],
             [
              0.3333333333333333,
              "#9c179e"
             ],
             [
              0.4444444444444444,
              "#bd3786"
             ],
             [
              0.5555555555555556,
              "#d8576b"
             ],
             [
              0.6666666666666666,
              "#ed7953"
             ],
             [
              0.7777777777777778,
              "#fb9f3a"
             ],
             [
              0.8888888888888888,
              "#fdca26"
             ],
             [
              1,
              "#f0f921"
             ]
            ],
            "type": "heatmap"
           }
          ],
          "histogram": [
           {
            "marker": {
             "pattern": {
              "fillmode": "overlay",
              "size": 10,
              "solidity": 0.2
             }
            },
            "type": "histogram"
           }
          ],
          "histogram2d": [
           {
            "colorbar": {
             "outlinewidth": 0,
             "ticks": ""
            },
            "colorscale": [
             [
              0,
              "#0d0887"
             ],
             [
              0.1111111111111111,
              "#46039f"
             ],
             [
              0.2222222222222222,
              "#7201a8"
             ],
             [
              0.3333333333333333,
              "#9c179e"
             ],
             [
              0.4444444444444444,
              "#bd3786"
             ],
             [
              0.5555555555555556,
              "#d8576b"
             ],
             [
              0.6666666666666666,
              "#ed7953"
             ],
             [
              0.7777777777777778,
              "#fb9f3a"
             ],
             [
              0.8888888888888888,
              "#fdca26"
             ],
             [
              1,
              "#f0f921"
             ]
            ],
            "type": "histogram2d"
           }
          ],
          "histogram2dcontour": [
           {
            "colorbar": {
             "outlinewidth": 0,
             "ticks": ""
            },
            "colorscale": [
             [
              0,
              "#0d0887"
             ],
             [
              0.1111111111111111,
              "#46039f"
             ],
             [
              0.2222222222222222,
              "#7201a8"
             ],
             [
              0.3333333333333333,
              "#9c179e"
             ],
             [
              0.4444444444444444,
              "#bd3786"
             ],
             [
              0.5555555555555556,
              "#d8576b"
             ],
             [
              0.6666666666666666,
              "#ed7953"
             ],
             [
              0.7777777777777778,
              "#fb9f3a"
             ],
             [
              0.8888888888888888,
              "#fdca26"
             ],
             [
              1,
              "#f0f921"
             ]
            ],
            "type": "histogram2dcontour"
           }
          ],
          "mesh3d": [
           {
            "colorbar": {
             "outlinewidth": 0,
             "ticks": ""
            },
            "type": "mesh3d"
           }
          ],
          "parcoords": [
           {
            "line": {
             "colorbar": {
              "outlinewidth": 0,
              "ticks": ""
             }
            },
            "type": "parcoords"
           }
          ],
          "pie": [
           {
            "automargin": true,
            "type": "pie"
           }
          ],
          "scatter": [
           {
            "fillpattern": {
             "fillmode": "overlay",
             "size": 10,
             "solidity": 0.2
            },
            "type": "scatter"
           }
          ],
          "scatter3d": [
           {
            "line": {
             "colorbar": {
              "outlinewidth": 0,
              "ticks": ""
             }
            },
            "marker": {
             "colorbar": {
              "outlinewidth": 0,
              "ticks": ""
             }
            },
            "type": "scatter3d"
           }
          ],
          "scattercarpet": [
           {
            "marker": {
             "colorbar": {
              "outlinewidth": 0,
              "ticks": ""
             }
            },
            "type": "scattercarpet"
           }
          ],
          "scattergeo": [
           {
            "marker": {
             "colorbar": {
              "outlinewidth": 0,
              "ticks": ""
             }
            },
            "type": "scattergeo"
           }
          ],
          "scattergl": [
           {
            "marker": {
             "colorbar": {
              "outlinewidth": 0,
              "ticks": ""
             }
            },
            "type": "scattergl"
           }
          ],
          "scattermap": [
           {
            "marker": {
             "colorbar": {
              "outlinewidth": 0,
              "ticks": ""
             }
            },
            "type": "scattermap"
           }
          ],
          "scattermapbox": [
           {
            "marker": {
             "colorbar": {
              "outlinewidth": 0,
              "ticks": ""
             }
            },
            "type": "scattermapbox"
           }
          ],
          "scatterpolar": [
           {
            "marker": {
             "colorbar": {
              "outlinewidth": 0,
              "ticks": ""
             }
            },
            "type": "scatterpolar"
           }
          ],
          "scatterpolargl": [
           {
            "marker": {
             "colorbar": {
              "outlinewidth": 0,
              "ticks": ""
             }
            },
            "type": "scatterpolargl"
           }
          ],
          "scatterternary": [
           {
            "marker": {
             "colorbar": {
              "outlinewidth": 0,
              "ticks": ""
             }
            },
            "type": "scatterternary"
           }
          ],
          "surface": [
           {
            "colorbar": {
             "outlinewidth": 0,
             "ticks": ""
            },
            "colorscale": [
             [
              0,
              "#0d0887"
             ],
             [
              0.1111111111111111,
              "#46039f"
             ],
             [
              0.2222222222222222,
              "#7201a8"
             ],
             [
              0.3333333333333333,
              "#9c179e"
             ],
             [
              0.4444444444444444,
              "#bd3786"
             ],
             [
              0.5555555555555556,
              "#d8576b"
             ],
             [
              0.6666666666666666,
              "#ed7953"
             ],
             [
              0.7777777777777778,
              "#fb9f3a"
             ],
             [
              0.8888888888888888,
              "#fdca26"
             ],
             [
              1,
              "#f0f921"
             ]
            ],
            "type": "surface"
           }
          ],
          "table": [
           {
            "cells": {
             "fill": {
              "color": "#EBF0F8"
             },
             "line": {
              "color": "white"
             }
            },
            "header": {
             "fill": {
              "color": "#C8D4E3"
             },
             "line": {
              "color": "white"
             }
            },
            "type": "table"
           }
          ]
         },
         "layout": {
          "annotationdefaults": {
           "arrowcolor": "#2a3f5f",
           "arrowhead": 0,
           "arrowwidth": 1
          },
          "autotypenumbers": "strict",
          "coloraxis": {
           "colorbar": {
            "outlinewidth": 0,
            "ticks": ""
           }
          },
          "colorscale": {
           "diverging": [
            [
             0,
             "#8e0152"
            ],
            [
             0.1,
             "#c51b7d"
            ],
            [
             0.2,
             "#de77ae"
            ],
            [
             0.3,
             "#f1b6da"
            ],
            [
             0.4,
             "#fde0ef"
            ],
            [
             0.5,
             "#f7f7f7"
            ],
            [
             0.6,
             "#e6f5d0"
            ],
            [
             0.7,
             "#b8e186"
            ],
            [
             0.8,
             "#7fbc41"
            ],
            [
             0.9,
             "#4d9221"
            ],
            [
             1,
             "#276419"
            ]
           ],
           "sequential": [
            [
             0,
             "#0d0887"
            ],
            [
             0.1111111111111111,
             "#46039f"
            ],
            [
             0.2222222222222222,
             "#7201a8"
            ],
            [
             0.3333333333333333,
             "#9c179e"
            ],
            [
             0.4444444444444444,
             "#bd3786"
            ],
            [
             0.5555555555555556,
             "#d8576b"
            ],
            [
             0.6666666666666666,
             "#ed7953"
            ],
            [
             0.7777777777777778,
             "#fb9f3a"
            ],
            [
             0.8888888888888888,
             "#fdca26"
            ],
            [
             1,
             "#f0f921"
            ]
           ],
           "sequentialminus": [
            [
             0,
             "#0d0887"
            ],
            [
             0.1111111111111111,
             "#46039f"
            ],
            [
             0.2222222222222222,
             "#7201a8"
            ],
            [
             0.3333333333333333,
             "#9c179e"
            ],
            [
             0.4444444444444444,
             "#bd3786"
            ],
            [
             0.5555555555555556,
             "#d8576b"
            ],
            [
             0.6666666666666666,
             "#ed7953"
            ],
            [
             0.7777777777777778,
             "#fb9f3a"
            ],
            [
             0.8888888888888888,
             "#fdca26"
            ],
            [
             1,
             "#f0f921"
            ]
           ]
          },
          "colorway": [
           "#636efa",
           "#EF553B",
           "#00cc96",
           "#ab63fa",
           "#FFA15A",
           "#19d3f3",
           "#FF6692",
           "#B6E880",
           "#FF97FF",
           "#FECB52"
          ],
          "font": {
           "color": "#2a3f5f"
          },
          "geo": {
           "bgcolor": "white",
           "lakecolor": "white",
           "landcolor": "#E5ECF6",
           "showlakes": true,
           "showland": true,
           "subunitcolor": "white"
          },
          "hoverlabel": {
           "align": "left"
          },
          "hovermode": "closest",
          "mapbox": {
           "style": "light"
          },
          "paper_bgcolor": "white",
          "plot_bgcolor": "#E5ECF6",
          "polar": {
           "angularaxis": {
            "gridcolor": "white",
            "linecolor": "white",
            "ticks": ""
           },
           "bgcolor": "#E5ECF6",
           "radialaxis": {
            "gridcolor": "white",
            "linecolor": "white",
            "ticks": ""
           }
          },
          "scene": {
           "xaxis": {
            "backgroundcolor": "#E5ECF6",
            "gridcolor": "white",
            "gridwidth": 2,
            "linecolor": "white",
            "showbackground": true,
            "ticks": "",
            "zerolinecolor": "white"
           },
           "yaxis": {
            "backgroundcolor": "#E5ECF6",
            "gridcolor": "white",
            "gridwidth": 2,
            "linecolor": "white",
            "showbackground": true,
            "ticks": "",
            "zerolinecolor": "white"
           },
           "zaxis": {
            "backgroundcolor": "#E5ECF6",
            "gridcolor": "white",
            "gridwidth": 2,
            "linecolor": "white",
            "showbackground": true,
            "ticks": "",
            "zerolinecolor": "white"
           }
          },
          "shapedefaults": {
           "line": {
            "color": "#2a3f5f"
           }
          },
          "ternary": {
           "aaxis": {
            "gridcolor": "white",
            "linecolor": "white",
            "ticks": ""
           },
           "baxis": {
            "gridcolor": "white",
            "linecolor": "white",
            "ticks": ""
           },
           "bgcolor": "#E5ECF6",
           "caxis": {
            "gridcolor": "white",
            "linecolor": "white",
            "ticks": ""
           }
          },
          "title": {
           "x": 0.05
          },
          "xaxis": {
           "automargin": true,
           "gridcolor": "white",
           "linecolor": "white",
           "ticks": "",
           "title": {
            "standoff": 15
           },
           "zerolinecolor": "white",
           "zerolinewidth": 2
          },
          "yaxis": {
           "automargin": true,
           "gridcolor": "white",
           "linecolor": "white",
           "ticks": "",
           "title": {
            "standoff": 15
           },
           "zerolinecolor": "white",
           "zerolinewidth": 2
          }
         }
        },
        "title": {
         "text": "Clustering Visualization with PCA (Original Scale)"
        },
        "xaxis": {
         "anchor": "y",
         "domain": [
          0,
          1
         ],
         "title": {
          "text": "PC1 (97.9%)"
         }
        },
        "yaxis": {
         "anchor": "x",
         "domain": [
          0,
          1
         ],
         "title": {
          "text": "PC2 (0.9%)"
         }
        }
       }
      }
     },
     "metadata": {},
     "output_type": "display_data"
    }
   ],
   "source": [
    "import pandas as pd\n",
    "import plotly.express as px\n",
    "from sklearn.decomposition import PCA\n",
    "\n",
    "# Extract baseline data with cluster labels\n",
    "baseline_data = trial_itt[\"data\"][trial_itt[\"data\"][\"period\"] == 0][[\"id\", \"cluster\"] + baseline_vars]\n",
    "\n",
    "# Apply PCA to the original baseline variables\n",
    "pca = PCA(n_components=2)\n",
    "pca_components = pca.fit_transform(baseline_data[baseline_vars])\n",
    "\n",
    "# Get explained variance for axis labels\n",
    "pc1_var = pca.explained_variance_ratio_[0] * 100\n",
    "pc2_var = pca.explained_variance_ratio_[1] * 100\n",
    "\n",
    "# Create a DataFrame for plotting\n",
    "plot_df = pd.DataFrame({\n",
    "    'PCA1': pca_components[:, 0],\n",
    "    'PCA2': pca_components[:, 1],\n",
    "    'cluster': baseline_data['cluster'].astype(str),\n",
    "    'id': baseline_data['id'], \n",
    "    'age': baseline_data['age']\n",
    "})\n",
    "\n",
    "# Create scatter plot with Plotly\n",
    "fig = px.scatter(\n",
    "    plot_df,\n",
    "    x='PCA1',\n",
    "    y='PCA2',\n",
    "    color='cluster',\n",
    "    hover_data=['age'],\n",
    "    title='Clustering Visualization with PCA (Original Scale)',\n",
    "    labels={'PCA1': f'PC1 ({pc1_var:.1f}%)', 'PCA2': f'PC2 ({pc2_var:.1f}%)'}\n",
    ")\n",
    "\n",
    "# Display the plot\n",
    "fig.show()"
   ]
  },
  {
   "cell_type": "code",
   "execution_count": 78,
   "metadata": {},
   "outputs": [
    {
     "data": {
      "image/png": "[encoded data removed]",
      "text/plain": [
       "<IPython.core.display.Image object>"
      ]
     },
     "metadata": {},
     "output_type": "display_data"
    }
   ],
   "source": [
    "from IPython.display import Image, display\n",
    "\n",
    "# Specify the path to your image (adjust if it's not in the current directory)\n",
    "image_path = 'newplot.png'\n",
    "\n",
    "# Display the image\n",
    "display(Image(filename=image_path))"
   ]
  },
  {
   "cell_type": "markdown",
   "metadata": {},
   "source": [
    "## Insights from Clustering\n",
    "\n",
    "The clustering revealed three distinct patient subgroups based on baseline covariates (Cell 13 output):\n",
    "\n",
    "- Cluster 0: Middle-aged patients (mean age 40.03), with moderate values for x1 and x3 (both ~0.45), and slightly negative x4 (-0.26). Contains the most data points, densely packed around the center (PC1 ≈ -5 to 15, PC2 ≈ -2 to 1), with a few outliers. Cluster 0 is the most homogeneous, as its tight concentration suggests that its data points are highly similar in terms of the features captured by PCA. <br>\n",
    "\n",
    "- Cluster 1: Younger patients (mean age 26.18), with lower x1 (0.33) and higher x4 (0.50). Positioned on the left (PC1 ≈ -20 to -5, PC2 ≈ -1 to 2), with more spread, especially along PC2. <br>\n",
    "\n",
    "- Cluster 2: Older patients (mean age 52.19), with higher variability in x2 (std 1.10) and moderate x3 (0.56).Located on the right (PC1 ≈ 15 to 35, PC2 ≈ -1 to 1.5), with sparse and spread-out points.<br>\n",
    "\n",
    "These differences suggest that age and specific covariate profiles (e.g., x4) drove the subgrouping, providing a foundation for understanding treatment response variations. Clusters 1 and 2 exhibit more internal variability, particularly along PC2. However, since PC2 explains only 0.9% of the variance, this spread represents minor differences compared to the major distinctions along PC1."
   ]
  },
  {
   "cell_type": "markdown",
   "metadata": {},
   "source": [
    "## Cell 6: Define Outcome Model with Clustering\n",
    "\n",
    "This cell defines a function to specify the outcome model formula including cluster interactions.\n",
    "By interacting treatment with cluster, we allow the treatment effect to vary across clusters."
   ]
  },
  {
   "cell_type": "code",
   "execution_count": 79,
   "metadata": {},
   "outputs": [],
   "source": [
    "def set_outcome_model(trial, adjustment_terms=None):\n",
    "    \"\"\"\n",
    "    Define the outcome model formula including cluster interaction.\n",
    "    \n",
    "    The inclusion of \"treatment * cluster\" in the model formula allows for:\n",
    "    1. Heterogeneous treatment effects across different patient subgroups\n",
    "    2. Estimation of cluster-specific treatment effects\n",
    "    3. Testing whether treatment effects differ significantly across clusters\n",
    "    \n",
    "    Args:\n",
    "        trial (dict): Trial dictionary containing data and columns\n",
    "        adjustment_terms (list): Additional terms for adjustment (optional)\n",
    "    \"\"\"\n",
    "    outcome = trial[\"columns\"][\"outcome\"]\n",
    "    formula = f\"{outcome} ~ treatment * cluster + period\"  # Interaction between treatment and cluster\n",
    "    if adjustment_terms:\n",
    "        formula += \" + \" + \" + \".join(adjustment_terms)\n",
    "    trial[\"outcome_model_formula\"] = formula"
   ]
  },
  {
   "cell_type": "markdown",
   "metadata": {},
   "source": [
    "## Cell 7: Apply Outcome Model to Data\n",
    "\n",
    "This cell applies the outcome model to our ITT data.\n",
    "We include x2 as an additional adjustment term."
   ]
  },
  {
   "cell_type": "code",
   "execution_count": 80,
   "metadata": {},
   "outputs": [],
   "source": [
    "set_outcome_model(trial_itt, adjustment_terms=[\"x2\"])  # Example adjustment term; adjust as needed"
   ]
  },
  {
   "cell_type": "markdown",
   "metadata": {},
   "source": [
    "## Cell 8: Define Marginal Structural Model Fitting Function\n",
    "\n",
    "This cell defines a function to fit the Marginal Structural Model (MSM).\n",
    "The MSM estimates the causal effect of treatment on the outcome."
   ]
  },
  {
   "cell_type": "code",
   "execution_count": 81,
   "metadata": {},
   "outputs": [],
   "source": [
    "def fit_msm(trial):\n",
    "    \"\"\"\n",
    "    Fit the MSM using the outcome model formula.\n",
    "    \n",
    "    The MSM allows us to:\n",
    "    1. Estimate the causal effect of treatment on the outcome\n",
    "    2. Account for confounding variables\n",
    "    3. Accommodate time-varying treatments and confounders\n",
    "    \n",
    "    Args:\n",
    "        trial (dict): Trial dictionary with data and formula\n",
    "    \n",
    "    Returns:\n",
    "        sm.LogitResults: Fitted model\n",
    "    \"\"\"\n",
    "    data = trial[\"data\"]\n",
    "    formula = trial[\"outcome_model_formula\"]\n",
    "    model = smf.logit(formula, data=data).fit(disp=0)  # Fit logistic regression\n",
    "    trial[\"outcome_model\"] = {\"fitted\": model, \"formula\": formula}\n",
    "    return model"
   ]
  },
  {
   "cell_type": "markdown",
   "metadata": {},
   "source": [
    "## Cell 9: Fit the Model\n",
    "\n",
    "This cell fits the MSM to our ITT data."
   ]
  },
  {
   "cell_type": "code",
   "execution_count": 82,
   "metadata": {},
   "outputs": [
    {
     "name": "stdout",
     "output_type": "stream",
     "text": [
      "                           Logit Regression Results                           \n",
      "==============================================================================\n",
      "Dep. Variable:                outcome   No. Observations:                  725\n",
      "Model:                          Logit   Df Residuals:                      719\n",
      "Method:                           MLE   Df Model:                            5\n",
      "Date:                Sun, 09 Mar 2025   Pseudo R-squ.:                 0.03591\n",
      "Time:                        20:21:40   Log-Likelihood:                -54.941\n",
      "converged:                       True   LL-Null:                       -56.987\n",
      "Covariance Type:            nonrobust   LLR p-value:                    0.5361\n",
      "=====================================================================================\n",
      "                        coef    std err          z      P>|z|      [0.025      0.975]\n",
      "-------------------------------------------------------------------------------------\n",
      "Intercept            -3.9654      0.666     -5.955      0.000      -5.271      -2.660\n",
      "treatment            -0.4356      0.957     -0.455      0.649      -2.311       1.440\n",
      "cluster               0.4284      0.389      1.101      0.271      -0.334       1.191\n",
      "treatment:cluster    -0.6197      0.844     -0.734      0.463      -2.275       1.036\n",
      "period               -0.0346      0.056     -0.614      0.539      -0.145       0.076\n",
      "x2                    0.2238      0.309      0.724      0.469      -0.382       0.830\n",
      "=====================================================================================\n"
     ]
    }
   ],
   "source": [
    "msm_itt = fit_msm(trial_itt)\n",
    "\n",
    "# Examine model results\n",
    "print(msm_itt.summary())"
   ]
  },
  {
   "cell_type": "markdown",
   "metadata": {},
   "source": [
    "## Cell 10: Define Prediction Function with Clustering\n",
    "\n",
    "This cell defines a function to predict survival outcomes by cluster.\n",
    "The function incorporates the clustering results to generate cluster-specific predictions."
   ]
  },
  {
   "cell_type": "code",
   "execution_count": 83,
   "metadata": {},
   "outputs": [],
   "source": [
    "def predict_with_clustering(trial, predict_times=None, conf_int=True, samples=100):\n",
    "    \"\"\"\n",
    "    Predict survival differences by cluster with optional confidence intervals.\n",
    "    \n",
    "    This clustering-based prediction approach provides:\n",
    "    1. Cluster-specific survival curves showing how different patient subgroups respond to treatment\n",
    "    2. Visualization of heterogeneous treatment effects across patient types\n",
    "    3. Identification of which patient clusters benefit most from treatment\n",
    "    \n",
    "    Args:\n",
    "        trial (dict): Trial dictionary with fitted model\n",
    "        predict_times (list): Time points for prediction (default: 0-10)\n",
    "        conf_int (bool): Whether to compute confidence intervals\n",
    "        samples (int): Number of bootstrap samples for CI\n",
    "    \n",
    "    Returns:\n",
    "        dict: Prediction results including survival differences by cluster\n",
    "    \"\"\"\n",
    "    if predict_times is None:\n",
    "        predict_times = list(range(11))\n",
    "    model = trial[\"outcome_model\"][\"fitted\"]\n",
    "    formula = trial[\"outcome_model\"][\"formula\"].split(\"~\")[1].strip()  # Extract predictors\n",
    "\n",
    "    # Parse formula correctly to handle interaction terms\n",
    "    predictor_vars = set()\n",
    "    for term in formula.split(\"+\"):\n",
    "        term = term.strip()\n",
    "        if \"*\" in term:\n",
    "            # Handle interaction terms\n",
    "            for var in term.split(\"*\"):\n",
    "                predictor_vars.add(var.strip())\n",
    "        else:\n",
    "            predictor_vars.add(term)\n",
    "    \n",
    "    # Add id and cluster to base variables\n",
    "    base_vars = list(predictor_vars)\n",
    "    if \"treatment\" in base_vars:\n",
    "        base_vars.remove(\"treatment\")  # We'll set this manually\n",
    "    if \"id\" not in base_vars:\n",
    "        base_vars.append(\"id\")\n",
    "    if \"cluster\" not in base_vars:\n",
    "        base_vars.append(\"cluster\")\n",
    "    \n",
    "    # Filter data to period 1 and select base variables\n",
    "    newdata = trial[\"data\"][trial[\"data\"][\"period\"] == 1][base_vars].copy()\n",
    "\n",
    "    # Expand data for prediction times\n",
    "    n_baseline = len(newdata)\n",
    "    newdata = pd.concat([newdata] * len(predict_times), ignore_index=True)\n",
    "    newdata[\"period\"] = np.tile(predict_times, n_baseline)  # Set period to prediction times\n",
    "\n",
    "    # Prepare coefficients for prediction\n",
    "    coefs = model.params.values\n",
    "    cov_matrix = model.cov_params()\n",
    "    coefs_samples = multivariate_normal.rvs(mean=coefs, cov=cov_matrix, size=samples) if conf_int else [coefs]\n",
    "\n",
    "    pred_results = {}\n",
    "    for treatment in [0, 1]:\n",
    "        for cluster in newdata[\"cluster\"].unique():\n",
    "            temp_data = newdata[newdata[\"cluster\"] == cluster].copy()\n",
    "            temp_data[\"treatment\"] = treatment  # Set treatment for prediction\n",
    "            exog = dmatrix(formula, temp_data, return_type=\"dataframe\")\n",
    "            preds = []\n",
    "            for coef_sample in coefs_samples:\n",
    "                linear_pred = np.dot(exog, coef_sample)\n",
    "                probs = 1 / (1 + np.exp(-linear_pred))  # Logistic function\n",
    "                probs_matrix = probs.reshape(-1, len(predict_times), order='F')\n",
    "                survival = np.cumprod(1 - probs_matrix, axis=1)  # Cumulative survival\n",
    "                preds.append(survival.mean(axis=0))\n",
    "            pred_results[f'treatment_{treatment}_cluster_{cluster}'] = np.array(preds).T\n",
    "\n",
    "    return pred_results"
   ]
  },
  {
   "cell_type": "markdown",
   "metadata": {},
   "source": [
    "## Cell 11: Define Plotting Function\n",
    "\n",
    "This cell defines a function to plot cluster-specific survival differences.\n",
    "This visualization helps identify which clusters benefit most from treatment."
   ]
  },
  {
   "cell_type": "code",
   "execution_count": 84,
   "metadata": {},
   "outputs": [],
   "source": [
    "def plot_cluster_survival_differences(preds, predict_times=None, conf_int=True):\n",
    "    \"\"\"\n",
    "    Plot survival differences for each cluster.\n",
    "    \n",
    "    These visualizations help to:\n",
    "    1. Identify which patient subgroups benefit most from treatment\n",
    "    2. Quantify heterogeneous treatment effects across different patient types\n",
    "    3. Visualize the magnitude and direction of treatment effects in each cluster\n",
    "    \n",
    "    Args:\n",
    "        preds (dict): Prediction results from predict_with_clustering function\n",
    "        predict_times (list): Time points for x-axis (default: 0-10)\n",
    "        conf_int (bool): Whether to plot confidence intervals\n",
    "    \"\"\"\n",
    "    if predict_times is None:\n",
    "        predict_times = list(range(11))\n",
    "    \n",
    "    plt.figure(figsize=(12, 8))\n",
    "    clusters = set()\n",
    "    \n",
    "    # Plot survival curves for each treatment-cluster combination\n",
    "    for key, survival in preds.items():\n",
    "        parts = key.split('_')\n",
    "        treatment = parts[1]\n",
    "        cluster = parts[3]\n",
    "        clusters.add(cluster)\n",
    "        \n",
    "        # Plot mean survival\n",
    "        if conf_int and survival.shape[1] > 1:\n",
    "            mean_survival = survival.mean(axis=1)\n",
    "            lower = np.percentile(survival, 2.5, axis=1)\n",
    "            upper = np.percentile(survival, 97.5, axis=1)\n",
    "            \n",
    "            plt.plot(predict_times, mean_survival, \n",
    "                    label=f\"Treatment={treatment}, Cluster={cluster}\",\n",
    "                    linewidth=2)\n",
    "            plt.fill_between(predict_times, lower, upper, alpha=0.2)\n",
    "        else:\n",
    "            plt.plot(predict_times, survival if survival.ndim == 1 else survival.mean(axis=1),\n",
    "                    label=f\"Treatment={treatment}, Cluster={cluster}\",\n",
    "                    linewidth=2)\n",
    "    \n",
    "    plt.xlabel('Time')\n",
    "    plt.ylabel('Survival Probability')\n",
    "    plt.title('Cluster-Specific Survival Curves')\n",
    "    plt.legend()\n",
    "    plt.grid(True, alpha=0.3)\n",
    "    plt.savefig(os.path.join(trial_itt[\"dir\"], \"cluster_survival_curves.png\"))\n",
    "    \n",
    "    # Plot treatment differences for each cluster\n",
    "    plt.figure(figsize=(12, 8))\n",
    "    for cluster in clusters:\n",
    "        treatment_0 = preds.get(f'treatment_0_cluster_{cluster}')\n",
    "        treatment_1 = preds.get(f'treatment_1_cluster_{cluster}')\n",
    "        \n",
    "        if treatment_0 is not None and treatment_1 is not None:\n",
    "            # Calculate treatment difference\n",
    "            diff = treatment_1.mean(axis=1) - treatment_0.mean(axis=1)\n",
    "            plt.plot(predict_times, diff, label=f\"Treatment Effect, Cluster={cluster}\", linewidth=2)\n",
    "    \n",
    "    plt.axhline(y=0, color='gray', linestyle='--')\n",
    "    plt.xlabel('Time')\n",
    "    plt.ylabel('Treatment Effect (Difference in Survival)')\n",
    "    plt.title('Cluster-Specific Treatment Effects')\n",
    "    plt.legend()\n",
    "    plt.grid(True, alpha=0.3)\n",
    "    \n",
    "    # Save plots\n",
    "    plt.savefig(os.path.join(trial_itt[\"dir\"], \"cluster_treatment_effects.png\"))\n",
    "    plt.close()"
   ]
  },
  {
   "cell_type": "markdown",
   "metadata": {},
   "source": [
    "## Cell 12: Execute Prediction and Plotting\n",
    "\n",
    "This cell executes the prediction and plotting functions.\n",
    "We generate predictions for time points 0-10 and create visualizations."
   ]
  },
  {
   "cell_type": "code",
   "execution_count": 85,
   "metadata": {},
   "outputs": [
    {
     "name": "stdout",
     "output_type": "stream",
     "text": [
      "Analysis complete. Results saved to: c:\\Users\\User\\Documents\\GitHub\\Clustering-Assignment-1\\trial_itt\n"
     ]
    },
    {
     "data": {
      "image/png": "[encoded data removed]",
      "text/plain": [
       "<Figure size 1200x800 with 1 Axes>"
      ]
     },
     "metadata": {},
     "output_type": "display_data"
    }
   ],
   "source": [
    "predict_times = list(range(11))\n",
    "preds_cluster = predict_with_clustering(trial_itt, predict_times=predict_times)\n",
    "plot_cluster_survival_differences(preds_cluster, predict_times, conf_int=True)\n",
    "\n",
    "print(\"Analysis complete. Results saved to:\", trial_itt[\"dir\"])"
   ]
  },
  {
   "cell_type": "markdown",
   "metadata": {},
   "source": [
    "## Cell 13: Analyze Clustering Results\n",
    "\n",
    "This cell provides additional analysis of the clustering results.\n",
    "We examine the characteristics of each cluster and their treatment effects."
   ]
  },
  {
   "cell_type": "code",
   "execution_count": 86,
   "metadata": {},
   "outputs": [
    {
     "name": "stdout",
     "output_type": "stream",
     "text": [
      "Baseline Characteristics by Cluster:\n",
      "               age                  x1                  x2            \\\n",
      "              mean       std      mean       std      mean       std   \n",
      "cluster                                                                \n",
      "0        40.025000  3.400509  0.450000  0.503831  0.092022  0.921472   \n",
      "1        26.181818  4.034651  0.333333  0.478714 -0.186206  0.801041   \n",
      "2        52.187500  5.612115  0.437500  0.512348  0.001540  1.096981   \n",
      "\n",
      "               x3                  x4            \n",
      "             mean       std      mean       std  \n",
      "cluster                                          \n",
      "0        0.450000  0.503831 -0.259737  1.093191  \n",
      "1        0.575758  0.501890  0.499317  0.943781  \n",
      "2        0.562500  0.512348 -0.179570  0.725003  \n"
     ]
    },
    {
     "name": "stdout",
     "output_type": "stream",
     "text": [
      "\n",
      "Cluster Sizes:\n",
      "cluster\n",
      "0    40\n",
      "1    33\n",
      "2    16\n",
      "dtype: int64\n",
      "\n",
      "Treatment Effects by Cluster:\n",
      "Cluster 0 - Treatment Effect: -0.8627 (p-value: 0.4622)\n",
      "Cluster 1 - Treatment Effect: 0.0219 (p-value: 0.9860)\n",
      "Cluster 2 - Treatment Effect: -18.8828 (p-value: 0.9982)\n"
     ]
    },
    {
     "name": "stderr",
     "output_type": "stream",
     "text": [
      "c:\\Python312\\Lib\\site-packages\\statsmodels\\base\\model.py:607: ConvergenceWarning:\n",
      "\n",
      "Maximum Likelihood optimization failed to converge. Check mle_retvals\n",
      "\n"
     ]
    }
   ],
   "source": [
    "# Extract baseline characteristics by cluster\n",
    "baseline_cluster_summary = trial_itt[\"data\"][trial_itt[\"data\"][\"period\"] == 0].groupby(\"cluster\")[baseline_vars].agg(['mean', 'std'])\n",
    "print(\"Baseline Characteristics by Cluster:\")\n",
    "print(baseline_cluster_summary)\n",
    "\n",
    "# Analyze cluster sizes\n",
    "cluster_sizes = trial_itt[\"data\"][trial_itt[\"data\"][\"period\"] == 0].groupby(\"cluster\").size()\n",
    "print(\"\\nCluster Sizes:\")\n",
    "print(cluster_sizes)\n",
    "\n",
    "# Extract treatment effects by cluster\n",
    "print(\"\\nTreatment Effects by Cluster:\")\n",
    "for cluster in sorted(trial_itt[\"data\"][\"cluster\"].unique()):\n",
    "    # Filter data for this cluster\n",
    "    cluster_data = trial_itt[\"data\"][trial_itt[\"data\"][\"cluster\"] == cluster]\n",
    "    \n",
    "    # Calculate treatment effect in this cluster\n",
    "    treatment_effect = smf.logit(f\"{trial_itt['columns']['outcome']} ~ treatment + period\", \n",
    "                               data=cluster_data).fit(disp=0)\n",
    "    \n",
    "    print(f\"Cluster {cluster} - Treatment Effect: {treatment_effect.params['treatment']:.4f} (p-value: {treatment_effect.pvalues['treatment']:.4f})\")\n"
   ]
  },
  {
   "cell_type": "markdown",
   "metadata": {},
   "source": [
    "## Cell 14: Baseline Data Clustering"
   ]
  },
  {
   "cell_type": "code",
   "execution_count": 87,
   "metadata": {},
   "outputs": [
    {
     "data": {
      "image/png": "[encoded data removed]",
      "text/plain": [
       "<Figure size 1500x1000 with 5 Axes>"
      ]
     },
     "metadata": {},
     "output_type": "display_data"
    }
   ],
   "source": [
    "import seaborn as sns\n",
    "import matplotlib.pyplot as plt\n",
    "import pandas as pd\n",
    "\n",
    "# Assuming trial_itt[\"data\"] is the ITT dataset with a 'cluster' column from prior K-means clustering\n",
    "# Extract baseline data from period 0\n",
    "baseline_data = trial_itt[\"data\"][trial_itt[\"data\"][\"period\"] == 0]\n",
    "\n",
    "# Define the baseline variables to plot\n",
    "baseline_vars = [\"age\", \"x1\", \"x2\", \"x3\", \"x4\"]\n",
    "\n",
    "# Set up the figure with subplots (2 rows, 3 columns)\n",
    "fig, axes = plt.subplots(nrows=2, ncols=3, figsize=(15, 10))\n",
    "axes = axes.flatten()  # Flatten the 2D array of axes for easier iteration\n",
    "\n",
    "# Create a box plot for each baseline variable, grouped by cluster\n",
    "for i, var in enumerate(baseline_vars):\n",
    "    sns.boxplot(x=\"cluster\", y=var, data=baseline_data, ax=axes[i])\n",
    "    axes[i].set_title(f\"Distribution of {var} by Cluster\")\n",
    "    axes[i].set_xlabel(\"Cluster\")\n",
    "    axes[i].set_ylabel(var)\n",
    "\n",
    "# Remove any unused subplots (since we have 5 variables but 6 slots)\n",
    "for j in range(i + 1, len(axes)):\n",
    "    fig.delaxes(axes[j])\n",
    "\n",
    "# Adjust layout for better spacing\n",
    "plt.tight_layout()\n",
    "plt.show()"
   ]
  },
  {
   "cell_type": "markdown",
   "metadata": {},
   "source": [
    "## **From Baseline Clustering** \n",
    "\n",
    "**Cluster Characteristics (Cell 13 output):**\n",
    "\n",
    "- Cluster 0: Largest (n=40), mean age ~40, moderate x1 and x3, low x4. Tightest grouping in PCA (PC1 ≈ -5 to 15), suggesting homogeneity.\n",
    "- Cluster 1: Moderate size (n=33), youngest (mean age ~26), highest x4 (~0.5), negative x2. More spread in PCA (PC1 ≈ -20 to -5).\n",
    "- Cluster 2: Smallest (n=16), oldest (mean age ~52), balanced x1 and x3, low x4. Most distinct in PCA (PC1 ≈ 15 to 35).\n",
    "\n",
    "**Separation**: PCA (Cell 14) shows clear separation along PC1 (97.9% variance), driven largely by age and possibly other covariates like x4. PC2 (0.9% variance) adds minor within-cluster variation.\n",
    "\n",
    "**Treatment Effects (Cell 13):**\n",
    "1. Cluster 0: Treatment effect -0.8627 (p=0.4622) – modest, non-significant.\n",
    "2. Cluster 1: Treatment effect 0.0219 (p=0.9860) – near-zero, non-significant.\n",
    "3. Cluster 2: Treatment effect -18.8828 (p=0.9982) – large negative but non-significant (possibly due to small sample size or convergence issues).\n",
    "\n",
    "**Interpretation**\n",
    "\n",
    "Distinct Subgroups:\n",
    "- Cluster 0: Represents a \"typical\" or average patient group—middle-aged, balanced covariates, and moderate treatment response. Its size and homogeneity suggest it’s the core population.\n",
    "- Cluster 1: Younger patients with unique profiles (high x4, low x2), possibly early-stage or less severe cases. Minimal treatment effect suggests they may not respond strongly.\n",
    "- Cluster 2: Older, potentially more severe or distinct subgroup (highest age, unique PCA position). The large negative treatment effect (though non-significant) hints at a different response profile, possibly adverse or null effects, warranting further investigation.\n",
    "\n",
    "The age-driven separation (Cluster 0: 40, Cluster 1: 26, Cluster 2: 52) aligns with the thinking trace’s box plot insights, suggesting age as a key differentiator. This could reflect age-related disease progression or treatment tolerance.\n",
    "\n",
    "Differences in x4 (e.g., Cluster 1’s high value) might indicate a biomarker or risk factor influencing clustering and outcomes.\n",
    "\n",
    "Treatment effects vary widely across clusters, though p-values are non-significant (likely due to sample size or model fit issues). Cluster 2’s extreme effect suggests potential heterogeneity worth exploring with larger data or refined models.\n",
    "\n"
   ]
  },
  {
   "cell_type": "markdown",
   "metadata": {},
   "source": [
    "---\n",
    "# Interpretation of Results\n",
    "\n",
    "We decided to implement clustering after data preparation but before fitting the MSM, specifically in Cell 5. This is because the MSM estimates causal treatment effects based on the data provided. By clustering patients beforehand, we could group them based on baseline covariates (e.g., age, x1, x2, x3, x4) and then allow the MSM to estimate treatment effects within each cluster. Additionally, by placing it after data preparation, we ensured the dataset was clean adn ready, and we could focus on baseline characteristics from period 0, avoiding contamination from post-treatment variables.\n",
    "\n",
    "We chose 3 clusters in the K-means clustering as a starting point for analysis. We selected K-means clustering for its simplicity, interpretability, and effectiveness with numerical data, which matches the nature of our baseline covariates.\n",
    "\n",
    "## Key Insights from Clustering-Based Analysis\n",
    "\n",
    "The PCA visualization of the clustering results reveals three distinct subgroups within the data, with their primary differences captured by PC1, which explains 97.9% of the variance. Cluster 0 is the largest and most homogeneous, cluster 1 shows moderate variability but remains distinct, and cluster 2 is the smallest and most different from the others. The dominance of PC1 underscores the effectiveness of the clustering approach in identifying meaningful patterns, while the minor role of PC2 suggests that within-cluster variations are less significant. These insights support the idea that the clusters represent different profiles—potentially patient subgroups in a medical context—that could exhibit varying responses to treatments or interventions, making this analysis a valuable tool for tailored decision-making.\n",
    "\n",
    "The scatter plot of the clustering results, visualized using Principal Component Analysis (PCA) on the original scale, shows three distinct clusters—labeled 0 (purple), 1 (red), and 2 (green)—with clear separation along the x-axis (PC1), which accounts for 97.9% of the variance. \n",
    "\n",
    "Cluster 0, the largest and most tightly packed, sits around PC1 ≈ -5 to 15, suggesting a uniform subgroup, while Cluster 1 (PC1 ≈ -20 to -5) and Cluster 2 (PC1 ≈ 15 to 35) are smaller and more spread out, especially along PC2, which explains just 0.9% of the variance. The strong influence of PC1 indicates that a single linear combination of features drives the clustering, effectively highlighting distinct subgroups, possibly tied to patient profiles like disease severity or genetic markers. \n",
    "\n",
    "Cluster 2 might represent a unique subgroup with different treatment responses, and although the clusters are well-separated, the spread in Clusters 1 and 2 along PC2 suggests potential substructures worth exploring further. Overall, the clustering successfully identifies meaningful patterns, with Cluster 0 as a \"typical\" group and Clusters 1 and 2 capturing more unique profiles, potentially valuable for personalized medicine.\n",
    "\n",
    "For Cell 12, the dataset was reduced to two principal components (PC1 and PC2), with PC1 explaining 97.9% of the variance, primarily driven by factors like age. \n",
    "\n",
    "Three clusters emerged:\n",
    "- Cluster 0 (purple): The largest group, centered in the middle of the plot, represents typical middle-aged patients (average age 40) with moderate characteristics.\n",
    "- Cluster 1 (red): A younger group (average age 26), positioned on the left, with distinct traits (e.g., high x4, low x2), possibly indicating early-stage cases.\n",
    "- Cluster 2 (green): The smallest, oldest group (average age 52), on the right, showing unique profiles that differentiate them from others.\n",
    "\n",
    "Survival Curves:\n",
    "These curves show survival probability over time (0 to 10) for each cluster under two treatments (0 and 1):\n",
    "- Cluster 0: Moderate survival decline; Treatment 1 (red) shows a slightly faster drop than Treatment 0 (blue).\n",
    "- Cluster 1: Steeper decline, especially with Treatment 1 (purple), suggesting a poorer response in this young group.\n",
    "- Cluster 2: Slowest decline, with Treatment 0 (green) maintaining the highest survival (above 0.9), indicating a better prognosis for this older group.\n",
    "\n",
    "The clusters highlight patient heterogeneity: distinct subgroups (typical, young, and older patients) show different survival patterns. Treatment effects vary—e.g., Treatment 1 worsens outcomes in Cluster 1 but has less impact in Cluster 2. This suggests that factors like age and other covariates influence treatment efficacy, supporting the potential for personalized treatment strategies based on cluster profiles."
   ]
  },
  {
   "cell_type": "markdown",
   "metadata": {},
   "source": []
  }
 ],
 "metadata": {
  "kernelspec": {
   "display_name": "Python 3",
   "language": "python",
   "name": "python3"
  },
  "language_info": {
   "codemirror_mode": {
    "name": "ipython",
    "version": 3
   },
   "file_extension": ".py",
   "mimetype": "text/x-python",
   "name": "python",
   "nbconvert_exporter": "python",
   "pygments_lexer": "ipython3",
   "version": "3.12.0"
  }
 },
 "nbformat": 4,
 "nbformat_minor": 2
}
